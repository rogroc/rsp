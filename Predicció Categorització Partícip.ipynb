{
 "cells": [
  {
   "cell_type": "code",
   "execution_count": 3,
   "id": "072b5557-500e-489c-a88f-7e5ebc696042",
   "metadata": {},
   "outputs": [],
   "source": [
    "# !pip install scikit-learn"
   ]
  },
  {
   "cell_type": "code",
   "execution_count": 24,
   "id": "fb066792-07fe-4278-be66-e0863dbb2e0c",
   "metadata": {},
   "outputs": [
    {
     "name": "stdout",
     "output_type": "stream",
     "text": [
      "Precisió del model: 0.82\n"
     ]
    }
   ],
   "source": [
    "import pandas as pd\n",
    "from sklearn.model_selection import train_test_split\n",
    "from sklearn.feature_extraction.text import CountVectorizer\n",
    "from sklearn.naive_bayes import MultinomialNB\n",
    "from sklearn.metrics import accuracy_score\n",
    "\n",
    "# Ruta del fitxer Excel\n",
    "fitxer_excel = r'D:\\34761933D\\Downloads\\Membres OGS.xlsx'\n",
    "\n",
    "# 1. Carregar les dades\n",
    "df = pd.read_excel(fitxer_excel)\n",
    "# Seleccionar les columnes necessàries\n",
    "df = df[['Denominació membre', 'Categorització partícip', 'Dret de vot']]\n",
    "# Eliminar files amb valors nuls\n",
    "df.dropna(inplace=True)\n",
    "\n",
    "# 2. Preprocessament\n",
    "# Combinar les columnes \"Denominació membre\" i \"Membre partícip\"\n",
    "X = df['Denominació membre'] + ' ' + df['Dret de vot']\n",
    "y = df['Categorització partícip']\n",
    "\n",
    "# 3. Dividir les dades en conjunt d'entrenament i conjunt de prova\n",
    "X_train, X_test, y_train, y_test = train_test_split(X, y, test_size=0.2, random_state=42)\n",
    "\n",
    "# 4. Vectorització\n",
    "vectorizer = CountVectorizer()\n",
    "X_train_vect = vectorizer.fit_transform(X_train)  # Ajusta i transforma les dades d'entrenament\n",
    "X_test_vect = vectorizer.transform(X_test)        # Només transforma les dades de prova\n",
    "\n",
    "# 5. Entrenament del model\n",
    "model = MultinomialNB()  # Model Naive Bayes\n",
    "model.fit(X_train_vect, y_train)  # Entrena el model amb les dades vectoritzades\n",
    "\n",
    "# 6. Predicció\n",
    "y_pred = model.predict(X_test_vect)  # Realitza les prediccions\n",
    "\n",
    "# 7. Avaluació\n",
    "accuracy = accuracy_score(y_test, y_pred)  # Calcula la precisió del model\n",
    "print(f'Precisió del model: {accuracy:.2f}')  # Mostra la precisió\n"
   ]
  },
  {
   "cell_type": "code",
   "execution_count": 65,
   "id": "59d0ef29-e689-4285-b36c-4a3ffe744bbb",
   "metadata": {},
   "outputs": [
    {
     "name": "stdout",
     "output_type": "stream",
     "text": [
      "Denominació: El/la president/a del Consell Comarcal del Baix Llobregat -> Predicció: SECTOR PÚBLIC LOCAL DE CATALUNYA\n",
      "Denominació: Membre designat pel ministre competent -> Predicció: ADMINISTRACIÓ DE LA GENERALITAT DE CATALUNYA\n"
     ]
    }
   ],
   "source": [
    "# Noves dades per fer prediccions\n",
    "noves_dades = [\n",
    "    \"El/la president/a del Consell Comarcal del Baix Llobregat\",\n",
    "    \"Membre designat pel ministre competent\"\n",
    "]\n",
    "\n",
    "# Vectoritzar les noves dades\n",
    "noves_dades_vect = vectorizer.transform(noves_dades)\n",
    "\n",
    "# Obtenir les prediccions\n",
    "prediccions = model.predict(noves_dades_vect)\n",
    "\n",
    "# Mostrar les prediccions\n",
    "for denominacio, prediccio in zip(noves_dades, prediccions):\n",
    "    print(f'Denominació: {denominacio} -> Predicció: {prediccio}')"
   ]
  },
  {
   "cell_type": "code",
   "execution_count": 29,
   "id": "4cd9ac79-db18-47c7-b9e8-95cd62efe562",
   "metadata": {},
   "outputs": [
    {
     "data": {
      "text/plain": [
       "<Compressed Sparse Row sparse matrix of dtype 'int64'\n",
       "\twith 16 stored elements and shape (1, 1588)>"
      ]
     },
     "execution_count": 29,
     "metadata": {},
     "output_type": "execute_result"
    }
   ],
   "source": []
  },
  {
   "cell_type": "code",
   "execution_count": 66,
   "id": "c44c50f3-c088-46d8-b1e8-8b6efa22cafd",
   "metadata": {},
   "outputs": [
    {
     "name": "stdout",
     "output_type": "stream",
     "text": [
      "Precisió del model amb Random Forest: 0.91\n"
     ]
    }
   ],
   "source": [
    "import pandas as pd\n",
    "from sklearn.model_selection import train_test_split\n",
    "from sklearn.feature_extraction.text import CountVectorizer\n",
    "from sklearn.tree import DecisionTreeClassifier\n",
    "from sklearn.metrics import accuracy_score\n",
    "from sklearn.ensemble import RandomForestClassifier\n",
    "\n",
    "# Ruta del fitxer Excel\n",
    "fitxer_excel = r'D:\\34761933D\\Downloads\\Membres OGS.xlsx'\n",
    "\n",
    "# 1. Carregar les dades\n",
    "df = pd.read_excel(fitxer_excel)\n",
    "# Seleccionar les columnes necessàries\n",
    "df = df[['Denominació membre', 'Categorització partícip', 'Denominació']]\n",
    "# Eliminar files amb valors nuls\n",
    "df.dropna(inplace=True)\n",
    "\n",
    "# 2. Preprocessament\n",
    "# Combinar les columnes \"Denominació membre\" i \"Membre partícip\"\n",
    "X = df['Denominació membre'] + ' ' + str(df['Denominació'])\n",
    "y = df['Categorització partícip']\n",
    "\n",
    "# 3. Dividir les dades en conjunt d'entrenament i conjunt de prova\n",
    "X_train, X_test, y_train, y_test = train_test_split(X, y, test_size=0.2, random_state=1)\n",
    "\n",
    "# 4. Vectorització\n",
    "vectorizer = CountVectorizer()\n",
    "X_train_vect = vectorizer.fit_transform(X_train)  # Ajusta i transforma les dades d'entrenament\n",
    "X_test_vect = vectorizer.transform(X_test)        # Només transforma les dades de prova\n",
    "\n",
    "# 5. Entrenament del model amb Bosc Aleatori\n",
    "model = RandomForestClassifier(n_estimators=100, random_state=42)  # 100 arbres\n",
    "model.fit(X_train_vect, y_train)  # Entrena el model\n",
    "\n",
    "# 6. Predicció\n",
    "y_pred = model.predict(X_test_vect)\n",
    "\n",
    "# 7. Avaluació\n",
    "accuracy = accuracy_score(y_test, y_pred)\n",
    "print(f'Precisió del model amb Random Forest: {accuracy:.2f}')\n"
   ]
  },
  {
   "cell_type": "code",
   "execution_count": 110,
   "id": "bc95a84d-d852-487f-be2f-747afc7be28a",
   "metadata": {},
   "outputs": [
    {
     "name": "stdout",
     "output_type": "stream",
     "text": [
      "Precisió del model amb SVM: 0.90\n"
     ]
    }
   ],
   "source": [
    "import pandas as pd\n",
    "from sklearn.model_selection import train_test_split\n",
    "from sklearn.feature_extraction.text import CountVectorizer\n",
    "from sklearn.ensemble import RandomForestClassifier\n",
    "from sklearn.metrics import accuracy_score\n",
    "from scipy.sparse import hstack\n",
    "from sklearn.svm import SVC\n",
    "\n",
    "# Ruta del fitxer Excel\n",
    "fitxer_excel = r'D:\\34761933D\\Downloads\\Membres OGS.xlsx'\n",
    "\n",
    "# 1. Carregar les dades\n",
    "df = pd.read_excel(fitxer_excel)\n",
    "\n",
    "# Seleccionar les columnes necessàries\n",
    "df = df[['Denominació membre', 'Categorització partícip', 'Denominació']]\n",
    "\n",
    "# Eliminar files amb valors nuls\n",
    "df.dropna(inplace=True)\n",
    "\n",
    "# 2. Dividir les dades en conjunt d'entrenament i conjunt de prova\n",
    "X_train, X_test, y_train, y_test = train_test_split(df[['Denominació membre', 'Denominació']], \n",
    "                                                    df['Categorització partícip'], test_size=0.2)\n",
    "\n",
    "# 3. Vectoritzar \"Denominació membre\"\n",
    "vectorizer_membre = CountVectorizer()\n",
    "X_membre_train_vect = vectorizer_membre.fit_transform(X_train['Denominació membre'])\n",
    "X_membre_test_vect = vectorizer_membre.transform(X_test['Denominació membre'])\n",
    "\n",
    "# 4. Vectoritzar \"Denominació\"\n",
    "vectorizer_denominacio = CountVectorizer()\n",
    "X_denominacio_train_vect = vectorizer_denominacio.fit_transform(X_train['Denominació'])\n",
    "X_denominacio_test_vect = vectorizer_denominacio.transform(X_test['Denominació'])\n",
    "\n",
    "# 5. Concatenar les matrius vectoritzades d'entrenament i de prova\n",
    "X_train_vect_combined = hstack([X_membre_train_vect, X_denominacio_train_vect])\n",
    "X_test_vect_combined = hstack([X_membre_test_vect, X_denominacio_test_vect])\n",
    "\n",
    "# 6. Entrenament del model amb SVM\n",
    "model_svm = SVC(kernel='linear', random_state=42)\n",
    "model_svm.fit(X_train_vect_combined, y_train)  # Entrena el model amb les dades combinades\n",
    "\n",
    "# 7. Predicció\n",
    "y_pred_svm = model_svm.predict(X_test_vect_combined)  # Utilitza les dades combinades de prova per fer prediccions\n",
    "\n",
    "# 8. Avaluació\n",
    "accuracy_svm = accuracy_score(y_test, y_pred_svm)\n",
    "print(f'Precisió del model amb SVM: {accuracy_svm:.2f}')\n"
   ]
  },
  {
   "cell_type": "code",
   "execution_count": 111,
   "id": "68bfac77-8122-4b1c-a475-38800bc5f85d",
   "metadata": {},
   "outputs": [
    {
     "name": "stdout",
     "output_type": "stream",
     "text": [
      "Denominació membre: El/la president/a del Consell Comarcal del Baix Llobregat, Denominació: Consorci Memorial dels Espais de la Batalla de l'Ebre -> Predicció: ADMINISTRACIÓ DE LA GENERALITAT DE CATALUNYA\n",
      "Denominació membre: Membre designat per la junta d'Aelix, SL, Denominació: Fundació Centre d'Informació i Documentació Internacionals a Barcelona (CIDOB) -> Predicció: SECTOR PRIVAT\n"
     ]
    }
   ],
   "source": [
    "# Noves dades per fer prediccions (Denominació membre i Denominació)\n",
    "noves_dades = pd.DataFrame({\n",
    "    'Denominació membre': [\n",
    "        \"El/la president/a del Consell Comarcal del Baix Llobregat\",\n",
    "        \"Membre designat per la junta d'Aelix, SL\"\n",
    "    ],\n",
    "    'Denominació': [\n",
    "        \"Consorci Memorial dels Espais de la Batalla de l'Ebre\",  # Exemple de denominació\n",
    "        \"Fundació Centre d'Informació i Documentació Internacionals a Barcelona (CIDOB)\"  # Exemple de denominació\n",
    "    ]\n",
    "})\n",
    "\n",
    "# Vectoritzar les noves dades\n",
    "noves_dades_membre_vect = vectorizer_membre.transform(noves_dades['Denominació membre'])\n",
    "noves_dades_denominacio_vect = vectorizer_denominacio.transform(noves_dades['Denominació'])\n",
    "\n",
    "# Concatenar les matrius vectoritzades de les noves dades\n",
    "noves_dades_vect_combined = hstack([noves_dades_membre_vect, noves_dades_denominacio_vect])\n",
    "\n",
    "# Obtenir les prediccions utilitzant el model SVM entrenat\n",
    "prediccions = model_svm.predict(noves_dades_vect_combined)\n",
    "\n",
    "# Mostrar les prediccions\n",
    "for (denominacio_membre, denominacio), prediccio in zip(noves_dades.values, prediccions):\n",
    "    print(f'Denominació membre: {denominacio_membre}, Denominació: {denominacio} -> Predicció: {prediccio}')\n"
   ]
  },
  {
   "cell_type": "code",
   "execution_count": null,
   "id": "bf5b2fed-8259-4c89-b280-01823cefbf02",
   "metadata": {},
   "outputs": [],
   "source": []
  },
  {
   "cell_type": "code",
   "execution_count": 117,
   "id": "9dbb0501-2998-4782-bc3a-b2b4a2310b62",
   "metadata": {},
   "outputs": [
    {
     "name": "stdout",
     "output_type": "stream",
     "text": [
      "Precisió del model amb Gradient Boosting: 0.92\n"
     ]
    }
   ],
   "source": [
    "import pandas as pd\n",
    "from sklearn.model_selection import train_test_split\n",
    "from sklearn.feature_extraction.text import CountVectorizer\n",
    "from sklearn.metrics import accuracy_score\n",
    "from scipy.sparse import hstack\n",
    "from sklearn.ensemble import GradientBoostingClassifier\n",
    "\n",
    "# Ruta del fitxer Excel\n",
    "fitxer_excel = r'D:\\34761933D\\Downloads\\Membres OGS.xlsx'\n",
    "\n",
    "# 1. Carregar les dades\n",
    "df = pd.read_excel(fitxer_excel)\n",
    "\n",
    "# Seleccionar les columnes necessàries\n",
    "df = df[['Denominació membre', 'Categorització partícip', 'Denominació']]\n",
    "\n",
    "# Eliminar files amb valors nuls\n",
    "df.dropna(inplace=True)\n",
    "\n",
    "# 2. Dividir les dades en conjunt d'entrenament i conjunt de prova\n",
    "X_train, X_test, y_train, y_test = train_test_split(df[['Denominació membre', 'Denominació']], \n",
    "                                                    df['Categorització partícip'], \n",
    "                                                    test_size=0.1, \n",
    "                                                    random_state=42)\n",
    "\n",
    "# 3. Vectoritzar \"Denominació membre\"\n",
    "vectorizer_membre = CountVectorizer()\n",
    "X_membre_train_vect = vectorizer_membre.fit_transform(X_train['Denominació membre'])\n",
    "X_membre_test_vect = vectorizer_membre.transform(X_test['Denominació membre'])\n",
    "\n",
    "# 4. Vectoritzar \"Denominació\"\n",
    "vectorizer_denominacio = CountVectorizer()\n",
    "X_denominacio_train_vect = vectorizer_denominacio.fit_transform(X_train['Denominació'])\n",
    "X_denominacio_test_vect = vectorizer_denominacio.transform(X_test['Denominació'])\n",
    "\n",
    "# 5. Concatenar les matrius vectoritzades d'entrenament i de prova\n",
    "X_train_vect_combined = hstack([X_membre_train_vect, X_denominacio_train_vect])\n",
    "X_test_vect_combined = hstack([X_membre_test_vect, X_denominacio_test_vect])\n",
    "\n",
    "# 6. Entrenament del model amb Gradient Boosting\n",
    "model_gb = GradientBoostingClassifier(random_state=42)\n",
    "model_gb.fit(X_train_vect_combined, y_train)  # Entrena el model amb les dades combinades\n",
    "\n",
    "# 7. Predicció\n",
    "y_pred_gb = model_gb.predict(X_test_vect_combined)  # Utilitza les dades combinades de prova\n",
    "\n",
    "# 8. Avaluació\n",
    "accuracy_gb = accuracy_score(y_test, y_pred_gb)\n",
    "print(f'Precisió del model amb Gradient Boosting: {accuracy_gb:.2f}')\n"
   ]
  },
  {
   "cell_type": "code",
   "execution_count": 123,
   "id": "e419236d-04e9-4bd0-8fa5-f921ba30f937",
   "metadata": {},
   "outputs": [
    {
     "name": "stdout",
     "output_type": "stream",
     "text": [
      "Denominació membre: e)\tUna persona representant de l’Institut d’Estudis Catalans, Denominació: Consorci Institut Ramon Llull -> Predicció: SECTOR PRIVAT\n",
      "Denominació membre: Membre designat pel ministeri d'exteriors, Denominació: Fundació Centre d'Informació i Documentació Internacionals a Barcelona (CIDOB) -> Predicció: SECTOR PÚBLIC ESTATAL\n"
     ]
    }
   ],
   "source": [
    "import pandas as pd\n",
    "from scipy.sparse import hstack\n",
    "\n",
    "# Noves dades per fer prediccions (Denominació membre i Denominació)\n",
    "noves_dades = pd.DataFrame({\n",
    "    'Denominació membre': [\n",
    "        \"e)\tUna persona representant de l’Institut d’Estudis Catalans\",\n",
    "        \"Membre designat pel ministeri d'exteriors\"\n",
    "    ],\n",
    "    'Denominació': [\n",
    "        \"Consorci Institut Ramon Llull\",  # Exemple de denominació\n",
    "        \"Fundació Centre d'Informació i Documentació Internacionals a Barcelona (CIDOB)\"  # Exemple de denominació\n",
    "    ]\n",
    "})\n",
    "\n",
    "# Vectoritzar les noves dades\n",
    "noves_dades_membre_vect = vectorizer_membre.transform(noves_dades['Denominació membre'])\n",
    "noves_dades_denominacio_vect = vectorizer_denominacio.transform(noves_dades['Denominació'])\n",
    "\n",
    "# Concatenar les matrius vectoritzades de les noves dades\n",
    "noves_dades_vect_combined = hstack([noves_dades_membre_vect, noves_dades_denominacio_vect])\n",
    "\n",
    "# Obtenir les prediccions utilitzant el model entrenat\n",
    "prediccions = model_gb.predict(noves_dades_vect_combined)  # Assegura't de fer servir el model adequat\n",
    "\n",
    "# Mostrar les prediccions\n",
    "for (denominacio_membre, denominacio), prediccio in zip(noves_dades.values, prediccions):\n",
    "    print(f'Denominació membre: {denominacio_membre}, Denominació: {denominacio} -> Predicció: {prediccio}')\n"
   ]
  },
  {
   "cell_type": "code",
   "execution_count": null,
   "id": "cb1c5179-b22c-4d56-9145-6976bef4ab5f",
   "metadata": {},
   "outputs": [],
   "source": []
  }
 ],
 "metadata": {
  "kernelspec": {
   "display_name": "Python 3 (ipykernel)",
   "language": "python",
   "name": "python3"
  },
  "language_info": {
   "codemirror_mode": {
    "name": "ipython",
    "version": 3
   },
   "file_extension": ".py",
   "mimetype": "text/x-python",
   "name": "python",
   "nbconvert_exporter": "python",
   "pygments_lexer": "ipython3",
   "version": "3.11.3"
  }
 },
 "nbformat": 4,
 "nbformat_minor": 5
}
