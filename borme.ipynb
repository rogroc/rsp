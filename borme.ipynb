{
  "cells": [
    {
      "cell_type": "markdown",
      "metadata": {
        "id": "5r0JvYsoPiyp"
      },
      "source": [
        "# CERCADOR BORME"
      ],
      "id": "5r0JvYsoPiyp"
    },
    {
      "cell_type": "code",
      "execution_count": null,
      "metadata": {
        "colab": {
          "base_uri": "https://localhost:8080/"
        },
        "id": "lRQ2NIo243D7",
        "outputId": "703f009f-d0d0-4664-8f2d-3ccc19d34402"
      },
      "outputs": [
        {
          "output_type": "stream",
          "name": "stdout",
          "text": [
            "Data d'avui: 2023-11-22\n",
            "\n",
            "Prem Intro per data d'avui o introdueix nova data per canviar-la (format 2023-11-22)\n",
            "\n",
            "\n",
            "Data introduïda:2023-11-22\n"
          ]
        }
      ],
      "source": [
        "import datetime\n",
        "\n",
        "x = datetime.datetime.now()\n",
        "x = str(x).split(\" \")[0]\n",
        "\n",
        "# Pregunta a l'usuari si vol modificar el text predefinit\n",
        "modificar_text = input(f\"Data d'avui: {x}\\n\\nPrem Intro per data d'avui o introdueix nova data per canviar-la (format {x})\\n\\n\")\n",
        "\n",
        "# Verifica la resposta de l'usuari i modifica el text predefinit si cal\n",
        "if modificar_text.upper() != '':\n",
        "    x = modificar_text\n",
        "\n",
        "# Mostra el text personalitzat\n",
        "print(f\"Data introduïda:{x}\")\n",
        "\n",
        "x = str(x).split(\"-\")"
      ],
      "id": "lRQ2NIo243D7"
    },
    {
      "cell_type": "code",
      "execution_count": null,
      "metadata": {
        "id": "iBK5Vjy_N_Q-"
      },
      "outputs": [],
      "source": [
        "from IPython.display import display, HTML\n",
        "\n",
        "def missatge(missatge):\n",
        "    display(HTML(f'<script>alert(\"{missatge}\");</script>'))"
      ],
      "id": "iBK5Vjy_N_Q-"
    },
    {
      "cell_type": "code",
      "execution_count": null,
      "metadata": {
        "id": "a58bbb3e"
      },
      "outputs": [],
      "source": [
        "# 1. Obté el llsitat d'entitats actualitzat del RSP de Dades Obertes i el guarda a la variable 'entitats'\n",
        "\n",
        "import requests\n",
        "import json\n",
        "\n",
        "url = 'https://analisi.transparenciacatalunya.cat/resource/gr39-ik6u.json'\n",
        "\n",
        "response = requests.get(url)\n",
        "if response.status_code == 200:\n",
        "    data = json.loads(response.content)\n",
        "else:\n",
        "    print('Error en la petició')\n",
        "\n",
        "entitats = []\n",
        "for d in data:\n",
        "  if d != {}:\n",
        "    entitats.append(d['denominaci'])\n",
        "\n",
        "entitats2 = [['ICF Banc, Entitat de Crèdit, SAU'], ['LoteriesdeCatalunyaSAU'], ['LoteriesdeCatalunyaSA'], ['CorporacióCatalanadeMitjansAudiovisualsSA'], ['CorporacioCatalanadeMitjansAudiovisualsSA'], ['TeatreNacionaldeCatalunyaSA'], ['InfraestructuresdelaGeneralitatdeCatalunyaSAU'], ['InfraestructuresdelaGeneralitatdeCatalunyaSA'], ['EquacatSA'], ['CentralsiInfraestructuresperalaMobilitatilesActivitatsLogístiquesSAU(CIMALSA)'], ['CentralsiInfraestructuresperalaMobilitatilesActivitatsLogístiquesSA'], ['CentralsiInfraestructuresperalaMobilitatilesActivitatsLogístiquesSAU'], ['CentralsiInfraestructuresperalaMobilitatilesActivitatsLogistiquesSAU(CIMALSA)'], ['CentralsiInfraestructuresperalaMobilitatilesActivitatsLogistiquesSA'], ['CentralsiInfraestructuresperalaMobilitatilesActivitatsLogistiquesSAU'], [\"Promotorad'ExportacionsCatalanesSA\"], ['EmpresadePromocióiLocalitzacióIndustrialdeCatalunyaSA(AVANÇSA)'], ['EmpresadePromocióiLocalitzacióIndustrialdeCatalunyaSA'], ['EmpresadePromocioiLocalitzacióIndustrialdeCatalunyaSA(AVANÇSA)'], ['EmpresadePromocioiLocalitzacióIndustrialdeCatalunyaSA'], ['ForestalCatalanaSA'], [\"Sistemad'EmergènciesMèdiquesSA\"], [\"Sistemad'EmergenciesMediquesSA\"], ['TVCMultimèdiaSL'], ['TVCMultimediaSL'], ['IntracatalòniaSA'], ['IntracataloniaSA'], ['InstitutCatalàdeFinancesCapitalSGEICSA'], ['InstitutCataladeFinancesCapitalSGEICSA'],\n",
        "['InstitutCatalàdeFinancesCapitalSGECRSA'], ['InstitutCataladeFinancesCapitalSGECRSA'], ['CargometroRailTransportSA'], ['CoordinacióLogísticaSanitàriaAIE'], ['CoordinacioLogisticaSanitariaAIE'], ['ComercialdelaForjaSA'], ['Fira2000SA'], [\"TerminalIntermodaldel'EmpordaSL\"], ['SabadellGentGranCentredeServeisSA'], ['VallterSA'], ['LogaritmeServeisLogísticsAIE'], ['LogaritmeServeisLogisticsAIE'], ['ParcTecnològicdelVallèsSA'], ['ParcTecnologicdelVallesSA'], ['AeroportsPúblicsdeCatalunyaSL'], ['AeroportsPublicsdeCatalunyaSL'], ['BarcelonaSagreraAltaVelocitatSA'], ['CircuitsdeCatalunyaSL'], ['InstrumentsFinancersperaEmpresesInnovadoresSL(IFEM)'], ['InstrumentsFinancersperaEmpresesInnovadoresSL'], [\"Societatd'EstibadelsPortsCatalansSA\"], ['AutometroSA'], ['CircuitdeMotocròsdeCatalunyaSL'], ['CircuitdeMotocrosdeCatalunyaSL'], ['ArrendadoraFerroviàriaSA'], ['ArrendadoraFerroviariaSA'], ['BarnaclínicSA'], ['BarnaclinicSA'], ['LuxquantaTechnologiesSL'], ['NuageTherapeuticsSL'], ['ALLREADMACHINELEARNINGTECHNOLOGIESSL'], ['INNOVATIVESOLUTIONSECOSYSTEMSA'], ['LaSedadeBarcelonaSA'], ['SabadellAsabysHealthInnovationInvestmentsSCRSA'], ['InvereadyBiotechIIISCRSA'], ['InvereadyFirstCapitalIIISCRSA'], ['ActiusdeMuntanyaSA'], ['DevicareSL'], ['WatchitySL'], ['AvalisdeCatalunyaSGR'], ['BarcelonaEmprènSCRSA'], ['BarcelonaEmprenSCRSA'], [\"BiomassadelesTerresdel'EbreSAenliquidació\"], [\"BiomassadelesTerresdel'EbreSAenliquidacio\"], [\"BiomassadelesTerresdel'EbreSA\"], ['CaixaCapitalTICSCRSA'], [\"Catalanad'IniciativesSA\"], ['CentrodeEnsayosInnovaciónyServiciosSL'], ['CentrodeEnsayosInnovacionyServiciosSL'], ['CombustiblesEcològicsCatalansSAenliquidació'], ['CombustiblesEcològicsCatalansSA'], ['CombustiblesEcologicsCatalansSAenliquidaco'], ['CombustiblesEcologicsCatalansSA'], ['CRCMarSA'], ['CreapolisParcdelaCreativitatSA'], ['EAPOsonaSudAltCongostSLP'], ['EmpresadeTransformaciónAgrariaSASMEMP'], ['EmpresadeTransformaciónAgrariaSA'], ['EmpresadeTransformacionAgrariaSASMEMP'], ['EmpresadeTransformacionAgrariaSA'], ['EraBiotechSA'], ['FinavesIVSA'], ['HabitacSL'], ['HealthequitySCRSA'], ['IDIADAAutomotiveTechnologySA'], ['ImatgeMèdicaIntercentresSL'], ['ImatgeMedicaIntercentresSL'], ['AirbusDSGeoSGSA'], ['IngeniaCapitalSA'], ['InvereadyInnvierteBiotechIISCRSA'], ['InvereadyFirstCapitalSCRSA'], ['InvereadyVentureFinanceISCR-PYMESA'], ['InvereadyVentureFinanceISCR'], ['LaboratorideReferènciadeCatalunyaSA'], ['LaboratorideReferenciadeCatalunyaSA'], ['LGAITechnologicalCenterSA'], ['LlotjaAgropecuàriaMercolleidaSA'], ['LlotjaAgropecuariaMercolleidaSA'], ['MegaframAIEenliquidació'], ['MegaframAIEenliquidacio'], ['NautaTechInvestIISCRSA'], ['NautaTechInvestIIISCRSA'], ['ParcAudiovisualdeCatalunyaSL'], ['ParcEòlicBaixEbreSA'], ['ParcEolicBaixEbreSA'], ['RencatAIE'], ['SermetraSL'], [\"Serveid'IncineraciódelsResidusUrbansSA(SIRUSA)\"], [\"Serveid'IncineraciódelsResidusUrbansSA\"], [\"Serveid'IncineraciodelsResidusUrbansSA(SIRUSA)\"], [\"Serveid'IncineraciodelsResidusUrbansSA\"], ['ServeisAuxiliarsalaSanitatAIE'], ['SocietatAnónimadeValoritzacionsAgroramaderesenliquidació'], ['SocietatAnónimadeValoritzacionsAgroramaderes'], ['SocietatAnonimadeValoritzacionsAgroramaderesenliquidacio'], ['SocietatAnonimadeValoritzacionsAgroramaderes'], ['SocietatCatalanadePetrolisSA'], [\"SocietatEòlicadel'EnderrocadaSA\"], [\"SocietatEolicadel'EnderrocadaSA\"], ['SpinnakerInvestSCRSA'], ['SuceramEnergiaElèctricaAIE'], ['SuceramEnergiaElectricaAIE'], ['TorredeCollserolaSA'], ['TramviaMetropolitàdelBesòsSA'], ['TramviaMetropolitadelBesosSA'], ['TramviaMetropolitàSA'], ['TramviaMetropolitaSA'], ['VenturcapIISCRSA'], ['GestoradeRunesdelaConstruccióSA'], ['GestoradeRunesdelaConstruccioSA'], ['CatlabCentreAnalítiquesTerrassaAIE'], ['CatlabCentreAnalitiquesTerrassaAIE'], [\"ConsorcideSalutid'AtencióSocialdeCatalunyaSA\"], [\"ConsorcideSalutid'AtencioSocialdeCatalunyaSA\"], ['Interhospitalia-2AIE'], [\"PoligeneracióParcdel'AlbaST4SA\"], [\"PoligeneracioParcdel'AlbaST4SA\"], ['CaixaCapitalBiomedSCRSA'], ['CaixaInnvierteIndustriaSCRSA'], ['AprovisionamentsSantaTeclaAIE'], ['NetejaSantaTeclaAIE'], ['CimneTecnologiaSA'], ['CompassIngenieríaySistemasSA'], ['ComputationalandInformationTechnologiesSA'], ['FreshWaterNatureSL'], ['BuildairIngenieriayArquitecturaSA'], ['BuildairIngenieríayArquitecturaSA'], ['LyncosTechnologiesSL'], ['PortableMultimediaSolutionsSL'], ['HealthappSL'], ['FGCRAILSA'], ['SocietatCatalanaperalaMobilitatSA'], ['ForestBioengineeringSolutionsSAU'], ['ForestBioengineeringSolutionsSA'], ['RobSurgicalSystemsSL'], ['BeedataAnalyticsSL'], ['VirtualBodyworksSL'], ['NostrumBioDiscoverySL'], ['AelixTherapeuticsSL'], ['PeptomycSL'], ['EodyneSystemsSL'], ['InnovexTherapeuticsSL'], ['BraingazeSL'], ['ScipediaSL'], ['VisualTaggingServicesSL'], ['FueliumSL'], ['PaperdropDiagnosticsSL'], ['GassoCimneInergySL'], ['PneumaticStructuresTechnologiesSL'], ['InlocRoboticsSL'], ['ProcarelightSL'], ['HemophotonicsSL'], ['TransplantBiotechSL'], ['SpecificPigSL'], ['ChemotargetsSL'], ['ManresanadeMicrobacteriologiaSL'], ['SumaCapitalGrowthFundISCRSA'], ['OrchestraScientificSL'], ['MicroomicsSystemsSL'], ['QuantitativeGenomicMedicineLaboratoriesSL'], ['SeqeraLabsSL'], ['EuronaWirelessTelecomSA'], ['MercadosdeAbastecimientosdeBarcelonaSA'], ['NeosSurgerySL'], ['GEIEFORESPIR'], ['QusideTechnologiesSL'], ['AuricaIIIBSCRSA'], ['TreellumTechnologiesSL'], ['MarinadeBadalonaSA'], ['OnaTherapeuticsSL'], ['PentabilitiesSL'], ['MiwendoSolutionsSL'], ['InbrainNeuroelectronicsSL'], ['OnechainImnunotherapeuticsSL'], ['PulmobioticsSL'], ['QurvTechnologiesSL'], ['AheadTherapeuticsSL'], ['NorthernMosaicLP'], ['PaloBiofarmaSL'], ['FGCMOBILITATSA'], ['OmniScopeLimited'], ['SixsensoTechnologiesSL'], ['BaretekBarcelonaDetectorTechnologiesSL'], ['DeepDetectionSL'], ['OrikineBioSL'], ['EnergiesRenovablesPubliquesDeCatalunyaSA'], ['EnergiesRenovablesPubliquesDeCatalunyaSAU'], ['EnergiesRenovablesPúbliquesDeCatalunyaSA'], ['EnergiesRenovablesPúbliquesDeCatalunyaSAU']]\n",
        "\n",
        "flat_list = [item for sublist in entitats2 for item in sublist]\n",
        "#flat_list\n",
        "\n",
        "entitats = entitats+flat_list\n"
      ],
      "id": "a58bbb3e"
    },
    {
      "cell_type": "code",
      "execution_count": null,
      "metadata": {
        "id": "308328f2"
      },
      "outputs": [],
      "source": [
        "# 2. Obté el pdf del llistat del dia actual del BORME i el guarda al disc\n",
        "\n",
        "# !pip install beautifulsoup4"
      ],
      "id": "308328f2"
    },
    {
      "cell_type": "code",
      "execution_count": null,
      "metadata": {
        "colab": {
          "base_uri": "https://localhost:8080/"
        },
        "id": "d49f41d9",
        "outputId": "acf85f1c-c588-46ae-fcbb-b650dd89f2ee"
      },
      "outputs": [
        {
          "output_type": "stream",
          "name": "stdout",
          "text": [
            "https://boe.es/borme/dias/2023/11/22/pdfs/BORME-A-2023-222-99.pdf\n"
          ]
        }
      ],
      "source": [
        "import requests\n",
        "from bs4 import BeautifulSoup\n",
        "\n",
        "url = \"https://www.boe.es/borme/dias/\" + x[0] + \"/\" + x[1] + \"/\" + x[2] + \"/\"\n",
        "\n",
        "# Obteniu el contingut HTML de la pàgina web amb requests\n",
        "response = requests.get(url)\n",
        "html = response.text\n",
        "\n",
        "# Parseu el contingut HTML amb Beautiful Soup\n",
        "soup = BeautifulSoup(html, 'html.parser')\n",
        "\n",
        "# Cerqueu el text \"ÍNDICE ALFABÉTICO DE SOCIEDADES\" dins dels elements p\n",
        "p_elements = soup.find_all('p')\n",
        "\n",
        "pdf_href = ''\n",
        "for p in p_elements:\n",
        "    if p.text == \"ÍNDICE ALFABÉTICO DE SOCIEDADES\":\n",
        "        # Obteniu l'element \"a\" dins del \"li\" pare del \"p\"\n",
        "        a_element = p.find_parent('li').find('a')\n",
        "        # Obteniu el valor de l'atribut \"href\"\n",
        "        pdf_href = \"https://boe.es\" + a_element['href']\n",
        "        # print(pdf_href)\n",
        "\n",
        "if pdf_href:\n",
        "    print(pdf_href)\n",
        "else:\n",
        "    print(\"No s'ha trobat BORME de la data indicada\")"
      ],
      "id": "d49f41d9"
    },
    {
      "cell_type": "code",
      "execution_count": null,
      "metadata": {
        "colab": {
          "base_uri": "https://localhost:8080/"
        },
        "id": "bZ1IrEtTAQUj",
        "outputId": "8fa12b68-2e62-471c-a075-e1c79f47576f"
      },
      "outputs": [
        {
          "output_type": "stream",
          "name": "stdout",
          "text": [
            "PDF descarregat amb èxit.\n"
          ]
        }
      ],
      "source": [
        "pdf = pdf_href.split(\"/\")[-1:][0]\n",
        "\n",
        "# Fem una sol·licitud GET per obtenir el contingut del PDF\n",
        "response = requests.get(pdf_href)\n",
        "\n",
        "# Verifiquem si la sol·licitud s'ha completat correctament (codi d'estat 200)\n",
        "if response.status_code == 200:\n",
        "    # Guardem el contingut del PDF en un arxiu local\n",
        "    with open(str(pdf), \"wb\") as pdf_file:\n",
        "        pdf_file.write(response.content)\n",
        "\n",
        "    print(\"PDF descarregat amb èxit.\")\n",
        "else:\n",
        "    print(f\"No s'ha pogut obtenir el PDF. Codi d'estat: {response.status_code}\")\n"
      ],
      "id": "bZ1IrEtTAQUj"
    },
    {
      "cell_type": "code",
      "execution_count": null,
      "metadata": {
        "id": "BIq48ohq2yIW"
      },
      "outputs": [],
      "source": [
        "from google.colab import files"
      ],
      "id": "BIq48ohq2yIW"
    },
    {
      "cell_type": "code",
      "execution_count": null,
      "metadata": {
        "colab": {
          "base_uri": "https://localhost:8080/"
        },
        "id": "775d822f",
        "outputId": "55cafa8c-cb00-4d74-bd52-ea9263f1c4da"
      },
      "outputs": [
        {
          "output_type": "stream",
          "name": "stdout",
          "text": [
            "Requirement already satisfied: PyPDF2 in /usr/local/lib/python3.10/dist-packages (3.0.1)\n"
          ]
        }
      ],
      "source": [
        "# 3. Obre el pdf del llistat d'entitats publicats el dia actual al BORME i n'extreu el text a la variable 'text2'\n",
        "\n",
        "!pip install PyPDF2"
      ],
      "id": "775d822f"
    },
    {
      "cell_type": "code",
      "execution_count": null,
      "metadata": {
        "id": "f998ffbf"
      },
      "outputs": [],
      "source": [
        "# importing required modules\n",
        "from PyPDF2 import PdfReader\n",
        "\n",
        "# creating a pdf reader object\n",
        "reader = PdfReader(pdf)\n",
        "\n",
        "# printing number of pages in pdf file\n",
        "num = len(reader.pages)\n",
        "\n",
        "text2 = []\n",
        "\n",
        "for n in range(num):\n",
        "\n",
        "    # getting a specific page from the pdf file\n",
        "    page = reader.pages[n]\n",
        "\n",
        "    # extracting text from page\n",
        "    text = page.extract_text()\n",
        "\n",
        "    # Dividir la cadena de text en paraules\n",
        "    paraules = text.split(\" \")\n",
        "\n",
        "    # Recórrer cada paraula i afegir les paraules que no són de parada a una nova cadena\n",
        "    nou = ''\n",
        "    for paraula in paraules:\n",
        "      nou += paraula\n",
        "\n",
        "    text2.append(nou)"
      ],
      "id": "f998ffbf"
    },
    {
      "cell_type": "code",
      "execution_count": null,
      "metadata": {
        "id": "xLqa3E8cy0be"
      },
      "outputs": [],
      "source": [
        "import re\n",
        "\n",
        "entitats3 = []\n",
        "for p in entitats:\n",
        "  nou = ''\n",
        "  for paraula in p.split(\" \"):\n",
        "    paraula = re.sub(r'\\([^)]*\\)|\\bSA?\\b|\\bSL?\\b|\\bAIE?\\b|\\bSAU?\\b|\\bSAL?\\b', '', paraula.strip())\n",
        "    nou += paraula + \" \"\n",
        "\n",
        "  entitats3.append(nou.strip())\n",
        "\n",
        "entitats = entitats3"
      ],
      "id": "xLqa3E8cy0be"
    },
    {
      "cell_type": "code",
      "execution_count": null,
      "metadata": {
        "colab": {
          "base_uri": "https://localhost:8080/"
        },
        "id": "Fyk1Q1AtrDSb",
        "outputId": "7571a319-ecf8-4534-e2b8-fd89c7a175e7"
      },
      "outputs": [
        {
          "output_type": "stream",
          "name": "stdout",
          "text": [
            "Requirement already satisfied: unidecode in /usr/local/lib/python3.10/dist-packages (1.3.7)\n"
          ]
        }
      ],
      "source": [
        "# 4. Cerca cada una de les entitats de la variable 'entitats' dins la variable 'text2'\n",
        "\n",
        "!pip install unidecode"
      ],
      "id": "Fyk1Q1AtrDSb"
    },
    {
      "cell_type": "code",
      "execution_count": null,
      "metadata": {
        "colab": {
          "base_uri": "https://localhost:8080/"
        },
        "id": "ef5b2992",
        "outputId": "0e6a6dc6-c5e3-47bf-f8fa-e5cdf6d07d0f"
      },
      "outputs": [
        {
          "output_type": "execute_result",
          "data": {
            "text/plain": [
              "[['Habitac,', 'borme-a-2023-222-28', '497309'],\n",
              " ['HabitacSL', 'borme-a-2023-222-28', '497309']]"
            ]
          },
          "metadata": {},
          "execution_count": 52
        }
      ],
      "source": [
        "# import re\n",
        "from unidecode import unidecode\n",
        "\n",
        "text2 = unidecode(str(text2).lower()).replace(\" \", \"\").replace(\"'\", \"\").replace(\".\", \"\").replace(\",\", \"\").replace(\"d'\", \"\").replace(\"l'\", \"\")\n",
        "\n",
        "resultat2 = []\n",
        "\n",
        "for e in entitats:\n",
        "    entrada = unidecode(e.lower()).replace(\" \", \"\").replace(\"'\", \"\").replace(\".\", \"\").replace(\",\", \"\").replace(\"d'\", \"\").replace(\"l'\", \"\")\n",
        "\n",
        "    #match = re.search(rf\"{entrada}\\\\n\\\\n(.*?(?<=\\().*?(?=\\)))\", text2)\n",
        "\n",
        "    match = re.search(rf\"{entrada}(.*?(?<=\\().*?(?=\\)))\", text2)\n",
        "\n",
        "    # 5. Extreu de cada entitat coincident el número de BORME i el número d'inscripció i ho guarda a la variable 'resultat2'\n",
        "    # Extracció del resultat\n",
        "    if match:\n",
        "        resultat = match.group(1)\n",
        "        resultat = resultat.split('\\\\n(')\n",
        "        resultat2.append([e, re.search(r\"borme-a-\\d+-\\d+-\\d+\", resultat[0])[0], resultat[1].replace('\\\\n', '')])\n",
        "resultat2"
      ],
      "id": "ef5b2992"
    },
    {
      "cell_type": "code",
      "execution_count": null,
      "metadata": {
        "colab": {
          "base_uri": "https://localhost:8080/"
        },
        "id": "401d9272",
        "outputId": "3f117388-7766-46d1-8b4d-d7a0b1e271e4"
      },
      "outputs": [
        {
          "output_type": "stream",
          "name": "stdout",
          "text": [
            "[['Habitac,', 'borme-a-2023-222-28', '497309'], ['HabitacSL', 'borme-a-2023-222-28', '497309']]\n"
          ]
        }
      ],
      "source": [
        "import sys\n",
        "\n",
        "if resultat2:\n",
        "    print(resultat2)\n",
        "else:\n",
        "    missatge('El BORME analitzat no conté cap entitat del RSP')\n",
        "    sys.exit(0)"
      ],
      "id": "401d9272"
    },
    {
      "cell_type": "code",
      "execution_count": null,
      "metadata": {
        "colab": {
          "base_uri": "https://localhost:8080/"
        },
        "id": "YOp_V3ly4vsJ",
        "outputId": "280d9282-712c-4d69-f995-2a32444413ca"
      },
      "outputs": [
        {
          "output_type": "stream",
          "name": "stdout",
          "text": [
            "URL(s) per descarregar:\n",
            "{'https://www.boe.es/borme/dias/2023/11/22/pdfs/BORME-A-2023-222-28.pdf'}\n",
            "PDF BORME-A-2023-222-28.pdf descarregat amb èxit.\n"
          ]
        }
      ],
      "source": [
        "import time\n",
        "\n",
        "# Llistat d'urls a descarregar\n",
        "\n",
        "urls_descarrega = []\n",
        "\n",
        "for r in resultat2:\n",
        "    url2 = url+\"pdfs/\"+r[1].upper()+\".pdf\"\n",
        "    urls_descarrega.append(url2)\n",
        "print(\"URL(s) per descarregar:\")\n",
        "print(set(urls_descarrega))\n",
        "\n",
        "descarregar = list(set(urls_descarrega))\n",
        "\n",
        "for d in descarregar:\n",
        "  # Fem una sol·licitud GET per obtenir el contingut del PDF\n",
        "    response = requests.get(d)\n",
        "\n",
        "    # Verifiquem si la sol·licitud s'ha completat correctament (codi d'estat 200)\n",
        "    if response.status_code == 200:\n",
        "        # Guardem el contingut del PDF en un arxiu local\n",
        "        nom_arxiu = d.split(\"/\")[-1]  # Obté el nom de l'arxiu de la URL\n",
        "        with open(nom_arxiu, \"wb\") as pdf_file:\n",
        "            pdf_file.write(response.content)\n",
        "\n",
        "        print(f\"PDF {nom_arxiu} descarregat amb èxit.\")\n",
        "    else:\n",
        "        print(f\"No s'ha pogut obtenir el PDF de {d}. Codi d'estat: {response.status_code}\")\n",
        "\n",
        "    # Espera 15 segons abans de la següent iteració\n",
        "    time.sleep(5)"
      ],
      "id": "YOp_V3ly4vsJ"
    },
    {
      "cell_type": "code",
      "execution_count": null,
      "metadata": {
        "colab": {
          "base_uri": "https://localhost:8080/"
        },
        "id": "uNE-u5QO5v8c",
        "outputId": "e0da74c5-da52-490b-eabf-8a9714494765"
      },
      "outputs": [
        {
          "output_type": "stream",
          "name": "stdout",
          "text": [
            "Cerca: 497309 -\n",
            "Cerca: 497309 -\n"
          ]
        },
        {
          "output_type": "execute_result",
          "data": {
            "text/plain": [
              "[['Habitac,',\n",
              "  'borme-a-2023-222-28',\n",
              "  '497309',\n",
              "  ' GRUPO INVERSIONISTA HABITAC SL.Nombramientos.  Apoderado: DAZA PAEZ HELDA MARY;MEDINA QUICENO JOHNATHAN.  ',\n",
              "  'https://www.boe.es/borme/dias/2023/11/22/pdfs/BORME-A-2023-222-28.pdf',\n",
              "  '2023-11-22']]"
            ]
          },
          "metadata": {},
          "execution_count": 55
        }
      ],
      "source": [
        "# Analitzar pdfs descarregats\n",
        "\n",
        "resultat3 = []\n",
        "\n",
        "for r in resultat2:\n",
        "\n",
        "    pdf2 = \"/content/\"+r[1].upper()+\".pdf\"\n",
        "\n",
        "    reader = PdfReader(pdf2)\n",
        "\n",
        "    # printing number of pages in pdf file\n",
        "    num = len(reader.pages)\n",
        "\n",
        "    text_pdf = []\n",
        "\n",
        "    for n in range(num):\n",
        "\n",
        "        # getting a specific page from the pdf file\n",
        "        page = reader.pages[n]\n",
        "\n",
        "        # extracting text from page\n",
        "        text = page.extract_text()\n",
        "        text_pdf.append(text)\n",
        "    #text_pdf\n",
        "\n",
        "    entrada = r[2]+\" -\"\n",
        "\n",
        "    print(\"Cerca:\", entrada)\n",
        "\n",
        "    match = re.search(rf\"{entrada}(.*?)Datos registrales\", str(text_pdf))\n",
        "\n",
        "    # Extracció del resultat\n",
        "    if match:\n",
        "        resultat = match.group(1)\n",
        "        resultat = resultat.split('\\\\n(')\n",
        "        resultat3.append([r[0], r[1], r[2], resultat[0].replace(\"\\\\n\", \"\"), url+\"pdfs/\"+r[1].upper()+\".pdf\", x[0]+\"-\"+x[1]+\"-\"+x[2]])\n",
        "\n",
        "#resultat3 = [v for i, v in enumerate(resultat3) if (v[2] not in [x[2] for x in resultat3[:i]])]\n",
        "resultat3 = [v for i, v in enumerate(resultat3) if (v[3] not in [x[3] for x in resultat3[:i]])]\n",
        "\n",
        "resultat3"
      ],
      "id": "uNE-u5QO5v8c"
    },
    {
      "cell_type": "code",
      "execution_count": null,
      "metadata": {
        "colab": {
          "base_uri": "https://localhost:8080/"
        },
        "id": "7503a62e",
        "outputId": "852360a3-c6f5-4819-f072-bea73e2da94a"
      },
      "outputs": [
        {
          "output_type": "stream",
          "name": "stdout",
          "text": [
            "BORME-A-2023-222-28.pdf\n",
            "497309 -\n",
            "BORME-A-2023-222-28.pdf\n",
            "497309 -\n"
          ]
        },
        {
          "output_type": "execute_result",
          "data": {
            "text/plain": [
              "[['Habitac,',\n",
              "  'borme-a-2023-222-28',\n",
              "  '497309',\n",
              "  ' GRUPO INVERSIONISTA HABITAC SL.Nombramientos.  Apoderado: DAZA PAEZ HELDA MARY;MEDINA QUICENO JOHNATHAN.  ',\n",
              "  'https://www.boe.es/borme/dias/2023/11/22/pdfs/BORME-A-2023-222-28.pdf',\n",
              "  '2023-11-22']]"
            ]
          },
          "metadata": {},
          "execution_count": 56
        }
      ],
      "source": [
        "url = \"https://www.boe.es/borme/dias/\"+x[0]+\"/\"+x[1]+\"/\"+x[2]+\"/\"\n",
        "\n",
        "resultat3 = []\n",
        "\n",
        "for r in resultat2:\n",
        "\n",
        "    url2 = r[1].split(\"/\")[-1:][0].upper()+\".pdf\"\n",
        "\n",
        "    print(url2)\n",
        "\n",
        "    #with open(pdf2, \"wb\") as f:\n",
        "     #   f.write(response.content)\n",
        "\n",
        "    #files.download(pdf2)\n",
        "\n",
        "    # creating a pdf reader object\n",
        "    reader = PdfReader(url2)\n",
        "\n",
        "    # printing number of pages in pdf file\n",
        "    num = len(reader.pages)\n",
        "\n",
        "    text_pdf = []\n",
        "\n",
        "    for n in range(num):\n",
        "\n",
        "        # getting a specific page from the pdf file\n",
        "        page = reader.pages[n]\n",
        "\n",
        "        # extracting text from page\n",
        "        text = page.extract_text()\n",
        "        text_pdf.append(text)\n",
        "    #text_pdf\n",
        "\n",
        "    entrada = r[2]+\" -\"\n",
        "\n",
        "    print(entrada)\n",
        "    match = re.search(rf\"{entrada}(.*?)Datos registrales\", str(text_pdf))\n",
        "\n",
        "    # Extracció del resultat\n",
        "    if match:\n",
        "        resultat = match.group(1)\n",
        "        resultat = resultat.split('\\\\n(')\n",
        "        resultat3.append([r[0], r[1], r[2], resultat[0].replace(\"\\\\n\", \"\"), url+\"pdfs/\"+r[1].upper()+\".pdf\", x[0]+\"-\"+x[1]+\"-\"+x[2]])\n",
        "\n",
        "#resultat3 = [v for i, v in enumerate(resultat3) if (v[2] not in [x[2] for x in resultat3[:i]])]\n",
        "resultat3 = [v for i, v in enumerate(resultat3) if (v[3] not in [x[3] for x in resultat3[:i]])]\n",
        "\n",
        "resultat3"
      ],
      "id": "7503a62e"
    },
    {
      "cell_type": "code",
      "execution_count": null,
      "metadata": {
        "colab": {
          "base_uri": "https://localhost:8080/",
          "height": 34
        },
        "id": "02570d16",
        "outputId": "08a29aca-0352-4fbd-8ad3-585153e7f0d6"
      },
      "outputs": [
        {
          "output_type": "display_data",
          "data": {
            "text/plain": [
              "<IPython.core.display.Javascript object>"
            ],
            "application/javascript": [
              "\n",
              "    async function download(id, filename, size) {\n",
              "      if (!google.colab.kernel.accessAllowed) {\n",
              "        return;\n",
              "      }\n",
              "      const div = document.createElement('div');\n",
              "      const label = document.createElement('label');\n",
              "      label.textContent = `Downloading \"${filename}\": `;\n",
              "      div.appendChild(label);\n",
              "      const progress = document.createElement('progress');\n",
              "      progress.max = size;\n",
              "      div.appendChild(progress);\n",
              "      document.body.appendChild(div);\n",
              "\n",
              "      const buffers = [];\n",
              "      let downloaded = 0;\n",
              "\n",
              "      const channel = await google.colab.kernel.comms.open(id);\n",
              "      // Send a message to notify the kernel that we're ready.\n",
              "      channel.send({})\n",
              "\n",
              "      for await (const message of channel.messages) {\n",
              "        // Send a message to notify the kernel that we're ready.\n",
              "        channel.send({})\n",
              "        if (message.buffers) {\n",
              "          for (const buffer of message.buffers) {\n",
              "            buffers.push(buffer);\n",
              "            downloaded += buffer.byteLength;\n",
              "            progress.value = downloaded;\n",
              "          }\n",
              "        }\n",
              "      }\n",
              "      const blob = new Blob(buffers, {type: 'application/binary'});\n",
              "      const a = document.createElement('a');\n",
              "      a.href = window.URL.createObjectURL(blob);\n",
              "      a.download = filename;\n",
              "      div.appendChild(a);\n",
              "      a.click();\n",
              "      div.remove();\n",
              "    }\n",
              "  "
            ]
          },
          "metadata": {}
        },
        {
          "output_type": "display_data",
          "data": {
            "text/plain": [
              "<IPython.core.display.Javascript object>"
            ],
            "application/javascript": [
              "download(\"download_d937d282-2dff-43c1-ac96-2c355b22dfb2\", \"BORME-A-2023-222-28.xlsx\", 5149)"
            ]
          },
          "metadata": {}
        }
      ],
      "source": [
        "import pandas as pd\n",
        "\n",
        "pd.DataFrame(resultat3).to_excel(resultat2[0][1].upper()+\".xlsx\", index=False)\n",
        "\n",
        "files.download(resultat2[0][1].upper()+\".xlsx\")"
      ],
      "id": "02570d16"
    },
    {
      "cell_type": "code",
      "execution_count": null,
      "metadata": {
        "colab": {
          "background_save": true,
          "base_uri": "https://localhost:8080/"
        },
        "id": "iGbZYLhzHNfs",
        "outputId": "a3f42346-2d51-4954-cd67-d53cc1f53d7f"
      },
      "outputs": [
        {
          "output_type": "display_data",
          "data": {
            "text/plain": [
              "<IPython.core.display.HTML object>"
            ],
            "text/html": [
              "<script>alert(\"EXCEL BORME DESCARREGAT\");</script>"
            ]
          },
          "metadata": {}
        }
      ],
      "source": [
        "missatge(\"EXCEL BORME DESCARREGAT\")"
      ],
      "id": "iGbZYLhzHNfs"
    },
    {
      "cell_type": "code",
      "execution_count": null,
      "metadata": {
        "id": "YT-Gac7kZgBA"
      },
      "outputs": [],
      "source": [],
      "id": "YT-Gac7kZgBA"
    }
  ],
  "metadata": {
    "colab": {
      "provenance": []
    },
    "kernelspec": {
      "display_name": "Python 3",
      "name": "python3"
    },
    "language_info": {
      "codemirror_mode": {
        "name": "ipython",
        "version": 3
      },
      "file_extension": ".py",
      "mimetype": "text/x-python",
      "name": "python",
      "nbconvert_exporter": "python",
      "pygments_lexer": "ipython3",
      "version": "3.9.13"
    }
  },
  "nbformat": 4,
  "nbformat_minor": 5
}
